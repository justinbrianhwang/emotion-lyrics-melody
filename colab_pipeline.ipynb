{
 "cells": [
  {
   "cell_type": "markdown",
   "id": "145b700a",
   "metadata": {},
   "source": [
    "# 🎵 LSTM vs Transformer: 감정 → 가사 → 음악 End-to-End (KOR+ENG)\n",
    "\n",
    "이 노트북은 다음 파이프라인을 한 번에 실행합니다:\n",
    "1) **데이터 다운로드 & 전처리** (IMDB + NSMC / Genius Lyrics / JSB Chorales)\n",
    "2) **감정 분석**: LSTM vs Transformer 분류기 비교\n",
    "3) **가사 생성**: LSTM LM vs GPT-like Transformer LM 비교 (한/영 혼합)\n",
    "4) **음악 생성(멜로디)**: LSTM vs Transformer 비교 + WAV 생성\n",
    "\n",
    "👉 *Colab 런타임(GPU) 권장*"
   ]
  },
  {
   "cell_type": "markdown",
   "id": "3f25870f",
   "metadata": {},
   "source": [
    "## 0) 환경 준비"
   ]
  },
  {
   "cell_type": "code",
   "execution_count": null,
   "id": "23c86c37",
   "metadata": {},
   "outputs": [],
   "source": [
    "\n",
    "# (권장) GPU 확인\n",
    "import torch, platform, os, sys\n",
    "print(\"Torch:\", torch.__version__, \"| CUDA:\", torch.cuda.is_available())\n",
    "\n",
    "# 필수 패키지 설치\n",
    "!pip -q install sentencepiece tqdm pandas numpy scikit-learn scipy\n",
    "\n",
    "# (선택) Kaggle CLI 설치 (Colab에선 사전 설치됨)\n",
    "!pip -q install kaggle\n",
    "\n",
    "# Kaggle API 키 설정되어 있어야 합니다.\n",
    "# (Colab) 아래 주석 제거하고 실행 후, kaggle.json 업로드\n",
    "# from google.colab import files\n",
    "# files.upload()  # kaggle.json 업로드\n",
    "# !mkdir -p ~/.kaggle && cp kaggle.json ~/.kaggle/\n",
    "# !chmod 600 ~/.kaggle/kaggle.json\n"
   ]
  },
  {
   "cell_type": "markdown",
   "id": "30d59c56",
   "metadata": {},
   "source": [
    "## 1) 프로젝트 스크립트 업로드(또는 복사)\n",
    "이 노트북은 `data_prep.py`, `train.py`를 현재 런타임으로 복사해서 사용합니다."
   ]
  },
  {
   "cell_type": "code",
   "execution_count": null,
   "id": "2289417b",
   "metadata": {},
   "outputs": [],
   "source": [
    "\n",
    "import os, shutil, pathlib\n",
    "\n",
    "workspace = \"/content/ai_song_project\"\n",
    "os.makedirs(workspace, exist_ok=True)\n",
    "\n",
    "# 만약 파일을 업로드했으면, 이 셀에서 경로 수정해서 복사해 쓰세요.\n",
    "# 여기서는 노트북과 같은 폴더에 있다고 가정해 복사합니다.\n",
    "srcs = [\"data_prep.py\", \"train.py\"]\n",
    "for s in srcs:\n",
    "    if os.path.exists(s):\n",
    "        shutil.copy(s, workspace)\n",
    "    else:\n",
    "        print(\"경고: 현재 디렉토리에\", s, \"가 없습니다. 직접 업로드하거나, 파일 경로를 수정하세요.\")\n",
    "\n",
    "%cd $workspace\n",
    "!ls -al\n"
   ]
  },
  {
   "cell_type": "markdown",
   "id": "4ba82ef5",
   "metadata": {},
   "source": [
    "## 2) 데이터 다운로드 & 전처리"
   ]
  },
  {
   "cell_type": "code",
   "execution_count": null,
   "id": "c84e466e",
   "metadata": {},
   "outputs": [],
   "source": [
    "\n",
    "# 데이터/토크나이저 준비\n",
    "!python data_prep.py --data_dir ./data --download --spm_vocab_size 8000 --max_lyrics_per_lang 5000\n"
   ]
  },
  {
   "cell_type": "markdown",
   "id": "9f4fa032",
   "metadata": {},
   "source": [
    "## 3) 학습: 감정 분석 (LSTM vs Transformer)"
   ]
  },
  {
   "cell_type": "code",
   "execution_count": null,
   "id": "42c3e301",
   "metadata": {},
   "outputs": [],
   "source": [
    "\n",
    "# LSTM 분류기\n",
    "!python train.py train_sentiment --model_type lstm --data_dir ./data --out_dir ./outputs --epochs 3 --batch_size 64 --d_model 256\n",
    "\n",
    "# Transformer 분류기\n",
    "!python train.py train_sentiment --model_type transformer --data_dir ./data --out_dir ./outputs --epochs 3 --batch_size 64 --d_model 256 --n_layers 4 --n_heads 4 --dim_ff 512\n"
   ]
  },
  {
   "cell_type": "markdown",
   "id": "be5109f0",
   "metadata": {},
   "source": [
    "## 4) 학습: 가사 생성 (LSTM LM vs GPT-like Transformer LM)"
   ]
  },
  {
   "cell_type": "code",
   "execution_count": null,
   "id": "d12eb308",
   "metadata": {},
   "outputs": [],
   "source": [
    "\n",
    "# LSTM LM\n",
    "!python train.py train_lyrics --model_type lstm --data_dir ./data --out_dir ./outputs --epochs 3 --batch_size 32 --d_model 384 --n_layers 2\n",
    "\n",
    "# Transformer LM\n",
    "!python train.py train_lyrics --model_type transformer --data_dir ./data --out_dir ./outputs --epochs 3 --batch_size 32 --d_model 384 --n_layers 4 --n_heads 6 --dim_ff 1024\n"
   ]
  },
  {
   "cell_type": "markdown",
   "id": "7790d7b9",
   "metadata": {},
   "source": [
    "## 5) 학습: 음악(멜로디) 생성 (LSTM vs Transformer)"
   ]
  },
  {
   "cell_type": "code",
   "execution_count": null,
   "id": "924664e0",
   "metadata": {},
   "outputs": [],
   "source": [
    "\n",
    "# Note-LSTM\n",
    "!python train.py train_music --model_type lstm --data_dir ./data --out_dir ./outputs --epochs 3 --batch_size 64 --d_model 256 --n_layers 2\n",
    "\n",
    "# Note-Transformer\n",
    "!python train.py train_music --model_type transformer --data_dir ./data --out_dir ./outputs --epochs 3 --batch_size 64 --d_model 256 --n_layers 4 --n_heads 4 --dim_ff 512\n"
   ]
  },
  {
   "cell_type": "markdown",
   "id": "263c8e70",
   "metadata": {},
   "source": [
    "## 6) End-to-End Demo: 상황 → 감정 → 가사 → 음악"
   ]
  },
  {
   "cell_type": "code",
   "execution_count": null,
   "id": "b38b905f",
   "metadata": {},
   "outputs": [],
   "source": [
    "\n",
    "from IPython.display import Audio, display\n",
    "\n",
    "input_text = \"오늘은 오랜만에 친구들과 밤바다를 보러 가서 너무 신난다!\"\n",
    "\n",
    "!python train.py infer \\\n",
    "  --input_text \"$input_text\" \\\n",
    "  --sentiment_lstm ./outputs/sentiment_lstm.pth \\\n",
    "  --sentiment_tr   ./outputs/sentiment_transformer.pth \\\n",
    "  --lyrics_lstm    ./outputs/lyrics_lstm.pth \\\n",
    "  --lyrics_tr      ./outputs/lyrics_transformer.pth \\\n",
    "  --music_lstm     ./outputs/music_lstm.pth \\\n",
    "  --music_tr       ./outputs/music_transformer.pth \\\n",
    "  --out_dir        ./outputs\n",
    "\n",
    "# 오디오 재생 (노트북에서)\n",
    "display(Audio(filename=\"./outputs/song_lstm.wav\"))\n",
    "display(Audio(filename=\"./outputs/song_tr.wav\"))\n"
   ]
  }
 ],
 "metadata": {},
 "nbformat": 4,
 "nbformat_minor": 5
}
